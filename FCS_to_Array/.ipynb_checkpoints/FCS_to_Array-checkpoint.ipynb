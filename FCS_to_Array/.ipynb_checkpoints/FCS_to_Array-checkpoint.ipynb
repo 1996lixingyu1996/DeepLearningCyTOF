{
 "cells": [
  {
   "cell_type": "markdown",
   "metadata": {},
   "source": [
    "### Prepare fcs files for deep learning\n",
    "This is a small example for formatting data from fcs files into numpy array, and save the metaData, marker names and the numpy array into allData.obj file. Use the script as a template to prepare your own fcs files for deep learning. "
   ]
  },
  {
   "cell_type": "code",
   "execution_count": 12,
   "metadata": {
    "collapsed": true
   },
   "outputs": [],
   "source": [
    "import numpy as np\n",
    "import scipy as sp\n",
    "import pandas as pd\n",
    "import rpy2 as rp\n",
    "from rpy2.robjects.packages import importr\n",
    "from rpy2.robjects import pandas2ri\n",
    "import os \n",
    "import rpy2.robjects as ro\n",
    "import pickle\n",
    "from collections import Counter\n",
    "\n",
    "\n",
    "# import R's \"flowCore\" package\n",
    "utils = importr('flowCore')"
   ]
  },
  {
   "cell_type": "code",
   "execution_count": 13,
   "metadata": {
    "collapsed": false
   },
   "outputs": [
    {
     "data": {
      "text/html": [
       "<div>\n",
       "<style scoped>\n",
       "    .dataframe tbody tr th:only-of-type {\n",
       "        vertical-align: middle;\n",
       "    }\n",
       "\n",
       "    .dataframe tbody tr th {\n",
       "        vertical-align: top;\n",
       "    }\n",
       "\n",
       "    .dataframe thead th {\n",
       "        text-align: right;\n",
       "    }\n",
       "</style>\n",
       "<table border=\"1\" class=\"dataframe\">\n",
       "  <thead>\n",
       "    <tr style=\"text-align: right;\">\n",
       "      <th></th>\n",
       "      <th>name</th>\n",
       "      <th>study_accession</th>\n",
       "      <th>CMV_Ab</th>\n",
       "    </tr>\n",
       "  </thead>\n",
       "  <tbody>\n",
       "    <tr>\n",
       "      <th>0</th>\n",
       "      <td>sample1.fcs</td>\n",
       "      <td>study1</td>\n",
       "      <td>True</td>\n",
       "    </tr>\n",
       "    <tr>\n",
       "      <th>1</th>\n",
       "      <td>sample2.fcs</td>\n",
       "      <td>study2</td>\n",
       "      <td>False</td>\n",
       "    </tr>\n",
       "    <tr>\n",
       "      <th>2</th>\n",
       "      <td>sample3.fcs</td>\n",
       "      <td>study3</td>\n",
       "      <td>True</td>\n",
       "    </tr>\n",
       "  </tbody>\n",
       "</table>\n",
       "</div>"
      ],
      "text/plain": [
       "          name study_accession  CMV_Ab\n",
       "0  sample1.fcs          study1    True\n",
       "1  sample2.fcs          study2   False\n",
       "2  sample3.fcs          study3    True"
      ]
     },
     "metadata": {},
     "output_type": "display_data"
    }
   ],
   "source": [
    "##### list fcs files #####\n",
    "cytof_files = pd.read_csv(\"metaData.csv\")\n",
    "display(cytof_files)\n",
    "fn = [os.path.join(os.getcwd(),f) for f in cytof_files.name]"
   ]
  },
  {
   "cell_type": "code",
   "execution_count": 14,
   "metadata": {
    "collapsed": true
   },
   "outputs": [],
   "source": [
    "##### read fcs file using the flowCore R package #####\n",
    "# flowCore is a very well maintained R package for reading and analyzing fcs files\n",
    "# Many of the fcs file related packages in python are a little buggy to use\n",
    "# Therefore, it is worth the trouble to read the fcs files using R \n",
    "\n",
    "r = rp.robjects.r\n",
    "expr_list = []\n",
    "for i in range(0,len(fn)):\n",
    "    fn_i = fn[i]\n",
    "    r_code = (\"library(flowCore);\"+\n",
    "          \"library(MetaCyto);\"+\n",
    "          \"fn = '\"+ fn_i+ \"'; \"+\n",
    "          \"fcs = read.FCS(fn,truncate_max_range = FALSE);\"+\n",
    "          \"expr = fcs@exprs;\"+\n",
    "          \"markers = markerFinder(fcs);\"+\n",
    "          \"colnames(expr) = markers;\"+\n",
    "          \"expr = as.data.frame(expr);\"+\n",
    "         # subsample 10,000 cells\n",
    "         \"expr = expr[sample(1:nrow(expr),10000,replace = TRUE),]\")\n",
    "    expr =  r(r_code)\n",
    "    expr_list.append(expr)"
   ]
  },
  {
   "cell_type": "code",
   "execution_count": 15,
   "metadata": {
    "collapsed": false
   },
   "outputs": [
    {
     "name": "stdout",
     "output_type": "stream",
     "text": [
      "['TIME', 'CD57', 'CD19', 'CD45RA', 'CD4', 'CD8', 'CD20', 'CD16', 'CD127', 'CD123', 'CXCR5', 'CD86', 'CD27', 'CD11C', 'CD14', 'CD56', 'CCR6', 'CD25', 'CCR7', 'CD3', 'CD38', 'CD161', 'CXCR3', 'HLADR', 'CD11B']\n"
     ]
    }
   ],
   "source": [
    "##### get common markers #####\n",
    "markers = []\n",
    "for i in range(len(expr_list)):\n",
    "    markers.extend(expr_list[i].colnames)\n",
    "\n",
    "markers = Counter(markers)\n",
    "markers = [k for k, c in markers.items() if c == 3]\n",
    "print(markers)\n",
    "\n",
    "for i in range(0,len(expr_list)):\n",
    "    t1 = expr_list[i] \n",
    "    t1 = pandas2ri.ri2py(t1)\n",
    "    expr_list[i] = t1.loc[:,markers]"
   ]
  },
  {
   "cell_type": "code",
   "execution_count": 16,
   "metadata": {
    "collapsed": false
   },
   "outputs": [
    {
     "name": "stdout",
     "output_type": "stream",
     "text": [
      "The dimenstion of the data is:  (3, 10000, 24, 1)\n"
     ]
    }
   ],
   "source": [
    "##### transform and format into numpy array\n",
    "def arcsinh(x):\n",
    "    return(np.arcsinh(x/5))\n",
    "\n",
    "coln = expr_list[0].columns.drop(\"TIME\")\n",
    "for i in range(len(expr_list)):\n",
    "    t1 = expr_list[i].drop(columns=\"TIME\")\n",
    "    t1 = t1.apply(arcsinh)\n",
    "    t1 = t1.values\n",
    "    shape1 = list(t1.shape)+[1]\n",
    "    t1 = t1.reshape(shape1)\n",
    "    expr_list[i] = t1\n",
    "    \n",
    "expr_list = np.stack(expr_list)\n",
    "print(\"The dimenstion of the data is: \", expr_list.shape)"
   ]
  },
  {
   "cell_type": "code",
   "execution_count": 17,
   "metadata": {
    "collapsed": true
   },
   "outputs": [],
   "source": [
    "allData = {\"cytof_files\":cytof_files, \n",
    "            \"expr_list\" : expr_list,\n",
    "            \"marker_names\" : coln}\n",
    "\n",
    "with open(\"allData.obj\", \"wb\") as f:\n",
    "    pickle.dump(allData, f)"
   ]
  },
  {
   "cell_type": "code",
   "execution_count": null,
   "metadata": {
    "collapsed": true
   },
   "outputs": [],
   "source": []
  }
 ],
 "metadata": {
  "kernelspec": {
   "display_name": "Python 3",
   "language": "python",
   "name": "python3"
  },
  "language_info": {
   "codemirror_mode": {
    "name": "ipython",
    "version": 3
   },
   "file_extension": ".py",
   "mimetype": "text/x-python",
   "name": "python",
   "nbconvert_exporter": "python",
   "pygments_lexer": "ipython3",
   "version": "3.6.7"
  }
 },
 "nbformat": 4,
 "nbformat_minor": 2
}
